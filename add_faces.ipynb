{
 "cells": [
  {
   "cell_type": "code",
   "execution_count": 2,
   "id": "2baf5bcc",
   "metadata": {},
   "outputs": [
    {
     "name": "stdout",
     "output_type": "stream",
     "text": [
      "Enter your Voter ID: BR/32/1234\n",
      "[[154 186 164 ...  42  44  52]\n",
      " [154 186 164 ...  42  44  52]\n",
      " [157 186 167 ... 205 203 206]\n",
      " ...\n",
      " [158 181 163 ... 233 230 229]\n",
      " [170 189 173 ... 234 231 230]\n",
      " [159 172 156 ... 240 238 238]]\n"
     ]
    }
   ],
   "source": [
    "import cv2\n",
    "import pickle\n",
    "import numpy as np\n",
    "import os\n",
    "\n",
    "if not os.path.exists('data/'):\n",
    "    os.makedirs('data/')\n",
    "    \n",
    "video=cv2.VideoCapture(0)\n",
    "facedetect=cv2.CascadeClassifier(cv2.data.haarcascades + 'haarcascade_frontalface_default.xml')\n",
    "faces_data=[]\n",
    "\n",
    "i=0\n",
    "name=input(\"Enter your Voter ID: \")\n",
    "framesTotal=51\n",
    "captureAfterFrame=2\n",
    "\n",
    "while True:\n",
    "    ret, frame=video.read()\n",
    "    gray=cv2.cvtColor(frame, cv2.COLOR_BGR2GRAY)\n",
    "    faces=facedetect.detectMultiScale(gray,1.3,5)\n",
    "    for(x,y,w,h) in faces:\n",
    "        crop_img=frame[y:y+h,x:x+w]\n",
    "        resized_img=cv2.resize(crop_img, (50,50))\n",
    "        if len(faces_data)<=framesTotal and i%captureAfterFrame==0:\n",
    "            faces_data.append(resized_img)\n",
    "        i=i+1\n",
    "        cv2.putText(frame,str(len(faces_data)),(50,50),cv2.FONT_HERSHEY_COMPLEX, 1, (50,50,255),1)\n",
    "        cv2.rectangle(frame,(x,y),(x+w,y+h),(50,50,255),1)\n",
    "        \n",
    "        \n",
    "    cv2.imshow('frame',frame)\n",
    "    k=cv2.waitKey(1)\n",
    "    if k== ord('q') or len(faces_data) >=framesTotal:\n",
    "        break\n",
    "        \n",
    "video.release()\n",
    "cv2.destroyAllWindows()\n",
    "\n",
    "faces_data=np.asarray(faces_data)\n",
    "faces_data=faces_data.reshape((framesTotal,-1))\n",
    "print(faces_data)\n",
    "\n",
    "if 'names.pkl' not in os.listdir('data/'):\n",
    "    names=[name]*framesTotal\n",
    "    with open('data/names.pkl','wb') as f:\n",
    "        pickle.dump(names,f)\n",
    "else:\n",
    "    with open('data/names.pkl','rb') as f:\n",
    "        names=pickle.load(f)\n",
    "    names=names+[name]*framesTotal\n",
    "    with open('data/names.pkl','wb') as f:\n",
    "        pickle.dump(names,f)\n",
    "    \n",
    "if 'faces_data.pkl' not in os.listdir('data/'):\n",
    "    with open('data/faces_data.pkl','wb') as f:\n",
    "        pickle.dump(faces_data,f)\n",
    "else:\n",
    "    with open('data/faces_data.pkl','rb') as f:\n",
    "        faces=pickle.load(f)\n",
    "    faces=np.append(faces,faces_data,axis=0)\n",
    "    with open('data/faces_data.pkl','wb') as f:\n",
    "        pickle.dump(faces,f)\n",
    "    "
   ]
  },
  {
   "cell_type": "code",
   "execution_count": null,
   "id": "08baff20",
   "metadata": {},
   "outputs": [],
   "source": []
  }
 ],
 "metadata": {
  "kernelspec": {
   "display_name": "Python 3 (ipykernel)",
   "language": "python",
   "name": "python3"
  },
  "language_info": {
   "codemirror_mode": {
    "name": "ipython",
    "version": 3
   },
   "file_extension": ".py",
   "mimetype": "text/x-python",
   "name": "python",
   "nbconvert_exporter": "python",
   "pygments_lexer": "ipython3",
   "version": "3.11.5"
  }
 },
 "nbformat": 4,
 "nbformat_minor": 5
}
